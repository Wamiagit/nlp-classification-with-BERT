{
 "cells": [
  {
   "cell_type": "markdown",
   "metadata": {},
   "source": [
    "# Tutorial of implementing BERT using Huggingface Transformers\n",
    "This tutorial introduces how to implement the state-of-art NLP language model, BERT, using the Huggingface Transformer library. This tutorial will walk you through the introduction of BERT, overview of some NLP tasks, specifically GLUE dataset that is used for sentence understanding, followed by the introduction of 🤗Transformer, code examples of training BERT with GLUE dataset built in Tensorflow, and using the pre-trained BERT model to predict some new instances.\n",
    "\n",
    "\n",
    "---\n",
    "\n",
    "# BERT Introduction\n",
    "BERT (Bidirectional Encoder Representations from Transformers) is a state-of-art language model for NLP. [BERT](https://github.com/google-research/bert) released with the paper BERT: [Pre-training of Deep Bidirectional Transformers for Language Understanding](https://arxiv.org/abs/1810.04805) by Jacob Devlin, Ming-Wei Chang, Kenton Lee and Kristina Toutanova. Followed by this recent paper published by researchers at Google AI Language (October 2018), it has caused a stir in the Machine Learning and NLP community by presenting the state-of-art results in eleven most popular NLP tasks, including pushing the [GLUE](https://gluebenchmark.com/) score to 80.5% (7.7% point absolute improvement), [MultiNLI](https://www.nyu.edu/projects/bowman/multinli/) accuracy to 86.7% (4.6% absolute improvement), [Stanford's Question Answering Dataset](https://rajpurkar.github.io/SQuAD-explorer/) SQuAD v1.1  Test F1 to 93.2 (1.5 point absolute im- provement) and SQuAD v2.0 Test F1 to 83.1 (5.1 point absolute improvement).\n",
    "\n",
    "The key innovation of BERT is its bidirectional training of Transformer, a popular attention model, to language modelling. As the paper concluded:\n",
    ">BERT is designed to pre- train deep bidirectional representations from unlabeled text by jointly conditioning on both left and right context in all layers. As a result, the pre-trained BERT model can be fine- tuned with just one additional output layer to create state-of-the-art models for a wide range of tasks, such as question answering and language inference, without substantial task-specific architecture modifications.\n",
    "\n",
    "The groundbreaking technology of BERT is its ability to do bidirectional fine-tuning approaches for pre-trained representations. The standard language models today are unidirectional, either left-to-right (like OpenAI GPT) or right-to-left. BERT uses the technology called \"Masked Language Model\" (MLM), which wil be briefed in the following section, to give more context about BERT.\n",
    "\n",
    "\n",
    "## Masked Language Model (MLM)\n",
    "\n",
    "Masked Language Model (MLM)'s pre-training objective is inspired by the Cloze task (Taylor, 1953). \n",
    "```The masked language model randomly masks some of the tokens from the input, and the objective is to predict the original vocabulary id of the masked word based only on its context```. Unlike left-to- right language model pre-training, the MLM ob- jective enables the representation to fuse the left and the right context, which allows BERT to pretrain a deep bidirectional Transformer. In addition to the masked language model, BERT also use a “next sentence prediction” task that jointly pre- trains text-pair representations (Google, 2018).\n",
    "\n",
    "## BERT Implementation\n",
    "BERT’s model architecture is a multi-layer bidirectional Transformer encoder based on the original implementation de- scribed in Vaswani et al. (2017) and released in the ```tensor2tensor``` library. \n",
    "There are two steps to implement BERT, pre-training and fine-tuning.\n",
    "\n",
    "### Pre-training\n",
    "1. A [CLS] token is inserted at the beginning of the first sentence and a [SEP] token is inserted at the end of each sentence.    \n",
    "2. A sentence embedding indicating Sentence A or Sentence B is added to each token. Sentence embeddings are similar in concept to token embeddings with a vocabulary of 2.    \n",
    "3. A positional embedding is added to each token to indicate its position in the sequence. The concept and implementation of positional embedding are presented in the Transformer paper.\n",
    "\n",
    "![BERT input](input.png)\n",
    "*BERT input representation. The input embeddings are the sum of the token embeddings, the segmenta- tion embeddings and the position embeddings (Google, 2018)*\n",
    "\n",
    "### Fine-tuning\n",
    "Fine-tuning is straightforward since the self-attention mechanism in the Transformer allows BERT to model many downstream tasks whether they involve single text or text pairs by swapping out the appropriate inputs and outputs. BERT uses the self-attention mechanism to unify these two stages, as encoding a concatenated text pair with self-attention effectively includes bidirectional cross attention between two sentences.\n",
    "\n",
    "For each task, simply plug in the task-specific inputs and outputs into BERT and fine-tune all the parameters end-to-end. At the input, sentence A and sentence B from pre-training are analogous to \n",
    "1. sentence pairs in paraphrasing    \n",
    "2. hypothesis-premise pairs in entailment    \n",
    "3. question-passage pairs in question answering    \n",
    "4. a degenerate text-∅ pair in text classification or sequence tagging   \n",
    "\n",
    "At the output, the token rep- resentations are fed into an output layer for token level tasks, such as sequence tagging or question answering, and the \\[CLS\\] representation is fed into an output layer for classification, such as entailment or sentiment analysis.\n",
    "\n",
    "---"
   ]
  },
  {
   "cell_type": "markdown",
   "metadata": {},
   "source": [
    "# Huggingface Transformers\n",
    "[Huggingface Transformers](https://github.com/huggingface/transformers) (formerly known as pytorch-transformers / pytorch-pretrained-bert) is a state-of-the-art Natural Language Processing for TensorFlow 2.0 and PyTorch. It is a mighty transformer that not only provides NLP architectures like BERT, but also some other models like XLM, DistillBert, XLNet, CTRL, and many more with over 32+ pretrained models in 100+ languages. To use Huggingface Transformers, you must have the Tensorflow 2.0 and PyTorch set up because it has deep interoperability between them.\n",
    "\n",
    "---\n"
   ]
  },
  {
   "cell_type": "markdown",
   "metadata": {},
   "source": [
    "# Set up\n",
    "If you haven't set up Tensorflow and/or Pytorch, refer to the [Tensorflow Install Instruction Page](https://www.tensorflow.org/install/pip#tensorflow-2.0-rc-is-available) and [Pytorch Install Instruction Page](https://pytorch.org/get-started/locally/#start-locally) to install them. Or follow the below instruction on installing them. \n",
    "\n",
    "Before installing Tensorflow, make sure the pip and python version are   \n",
    "**Python > 3.4 and pip >= 19.0**\n",
    "\n",
    "    $ python3 --version    \n",
    "$ pip3 --version \n",
    "    (or $ pip --version)\n",
    "    \n",
    "    \n",
    "Install Tensorflow 2.0:\n",
    "\n",
    "    $ pip install --upgrade tensorflow\n",
    "    \n",
    "Verify the install:\n",
    "\n",
    "    $ python -c \"import tensorflow as tf;print(tf.reduce_sum(tf.random.normal([1000, 1000])))\"\n",
    "    \n",
    "To install Pytorch, run the command on the [Pytorch Install Instruction Page](https://pytorch.org/get-started/locally/#start-locally), under the \"Start Locally\" section and find the section \"Run this Command:\", based on the environment of your computer. To verify the successful installation of Pytorch, run the following python code:\n",
    "\n",
    "```python\n",
    ">>> import torch\n",
    ">>> x = torch.rand(5, 3)\n",
    ">>> print(x)\n",
    "```\n",
    "\n",
    "Result should be something similar to \n",
    "```\n",
    "tensor([[0.3380, 0.3845, 0.3217],  \n",
    "        [0.8337, 0.9050, 0.2650],  \n",
    "        [0.2979, 0.7141, 0.9069],  \n",
    "        [0.1449, 0.1132, 0.1375],  \n",
    "        [0.4675, 0.3947, 0.1426]])\n",
    "```\n",
    "\n",
    "\n",
    "\n",
    "When TensorFlow 2.0 and PyTorch has been installed, 🤗Transformers can be installed using pip as follows:  \n",
    "\n",
    "    $ pip install transformers\n",
    "\n",
    "Dataset: Tensorflow dataset. Follow the [instruction of installing Tensorflow Dataset](https://www.tensorflow.org/datasets/overview) or do  \n",
    "    \n",
    "    $ pip install tensorflow-datasets\n",
    "\n"
   ]
  },
  {
   "cell_type": "code",
   "execution_count": 1,
   "metadata": {},
   "outputs": [
    {
     "name": "stdout",
     "output_type": "stream",
     "text": [
      "===setting up===\n",
      "PyTorch imported\n",
      "Tensorflow imported\n",
      "tfds imported\n",
      "🤗 imported\n",
      "===setting done===\n"
     ]
    }
   ],
   "source": [
    "# set up\n",
    "print(\"===setting up===\")\n",
    "import torch\n",
    "print(\"PyTorch imported\")\n",
    "import tensorflow as tf\n",
    "print(\"Tensorflow imported\")\n",
    "import tensorflow_datasets as tfds\n",
    "print(\"tfds imported\")\n",
    "from transformers import *\n",
    "print(\"🤗 imported\")\n",
    "import matplotlib.pyplot as plt\n",
    "print(\"===setting done===\")"
   ]
  },
  {
   "cell_type": "markdown",
   "metadata": {},
   "source": [
    "# Using Tensorflow Dataset - GLUE"
   ]
  },
  {
   "cell_type": "markdown",
   "metadata": {},
   "source": [
    "First, let's import the data. Tensorflow has built in variuos popular machine learning and deep learning datasets, in the area of audio, image, structured, text, translate, and video. \n",
    "\n",
    "GLUE belongs to the text data that is a paraphrasing NLP task that has the function of semantic analysis. It is a sentence or sentence-pair language understanding tasks. \n",
    "\n",
    "This tutorial uses the ```glue/mrpc```, the Microsoft Research Paraphrase Corpus (Dolan & Brockett, 2005). It is a corpus of sentence pairs automatically extracted from online news sources, with human annotations for whether the sentences in the pair are ```semantically equivalent```. In a nutshell, it is a ```paraphrasing task``` to understand two sentence semantically.\n",
    "\n",
    "---"
   ]
  },
  {
   "cell_type": "markdown",
   "metadata": {},
   "source": [
    "```tfds.load``` is a convenience method that's the simplest way to build and load a tf.data.Dataset. tf.data.Dataset is the standard TensorFlow API to build input pipelines. If this data has originally downloaded before, it will reuse the data from previous downloaded location, otherwise, it will take a few minutes to download the dataset. \n",
    "\n",
    "Under the folder where the dataset is downloaded, the files look something similar as these:\n",
    "\n",
    "```markdown\n",
    "dataset_info.json\t\t\tglue-validation.tfrecord-00000-of-00001\n",
    "glue-test.tfrecord-00000-of-00001\tlabel.labels.txt\n",
    "glue-train.tfrecord-00000-of-00001\n",
    "```\n",
    "\n"
   ]
  },
  {
   "cell_type": "code",
   "execution_count": 2,
   "metadata": {},
   "outputs": [
    {
     "name": "stderr",
     "output_type": "stream",
     "text": [
      "INFO:absl:Overwrite dataset info from restored data version.\n",
      "INFO:absl:Reusing dataset glue (/Users/rainy/tensorflow_datasets/glue/mrpc/0.0.2)\n",
      "INFO:absl:Constructing tf.data.Dataset for split None, from /Users/rainy/tensorflow_datasets/glue/mrpc/0.0.2\n",
      "WARNING:absl:Warning: Setting shuffle_files=True because split=TRAIN and shuffle_files=None. This behavior will be deprecated on 2019-08-06, at which point shuffle_files=False will be the default for all splits.\n"
     ]
    }
   ],
   "source": [
    "# load the glue/mrpc data from Tensorflow dataset, with the dataset_info.json file\n",
    "# this might take a few minutes to download the dataset from the source\n",
    "data, data_info = tfds.load('glue/mrpc', with_info = True)"
   ]
  },
  {
   "cell_type": "code",
   "execution_count": 3,
   "metadata": {},
   "outputs": [
    {
     "data": {
      "text/plain": [
       "FeaturesDict({\n",
       "    'idx': Tensor(shape=(), dtype=tf.int32),\n",
       "    'label': ClassLabel(shape=(), dtype=tf.int64, num_classes=2),\n",
       "    'sentence1': Text(shape=(), dtype=tf.string),\n",
       "    'sentence2': Text(shape=(), dtype=tf.string),\n",
       "})"
      ]
     },
     "execution_count": 3,
     "metadata": {},
     "output_type": "execute_result"
    }
   ],
   "source": [
    "# data inspection\n",
    "data_info.features"
   ]
  },
  {
   "cell_type": "code",
   "execution_count": 4,
   "metadata": {},
   "outputs": [
    {
     "data": {
      "text/plain": [
       "2"
      ]
     },
     "execution_count": 4,
     "metadata": {},
     "output_type": "execute_result"
    }
   ],
   "source": [
    "data_info.features['label'].num_classes"
   ]
  },
  {
   "cell_type": "code",
   "execution_count": 5,
   "metadata": {},
   "outputs": [
    {
     "data": {
      "text/plain": [
       "{'test': <tfds.core.SplitInfo num_examples=1725>,\n",
       " 'train': <tfds.core.SplitInfo num_examples=3668>,\n",
       " 'validation': <tfds.core.SplitInfo num_examples=408>}"
      ]
     },
     "execution_count": 5,
     "metadata": {},
     "output_type": "execute_result"
    }
   ],
   "source": [
    "data_info.splits"
   ]
  },
  {
   "cell_type": "code",
   "execution_count": 6,
   "metadata": {},
   "outputs": [],
   "source": [
    "# to access three splitted dataset\n",
    "train = data['train']\n",
    "test = data['test']\n",
    "validation = data['validation']"
   ]
  },
  {
   "cell_type": "markdown",
   "metadata": {},
   "source": [
    "Tensorflow dataset uses ```iterator``` to loop the data. To view the example of the dataset, iterator is called."
   ]
  },
  {
   "cell_type": "code",
   "execution_count": 7,
   "metadata": {},
   "outputs": [
    {
     "name": "stdout",
     "output_type": "stream",
     "text": [
      "tf.Tensor(201, shape=(), dtype=int32)\n",
      "tf.Tensor(b'Tibco has used the Rendezvous name since 1994 for several of its technology products , according to the Palo Alto , California company .', shape=(), dtype=string)\n",
      "tf.Tensor(b'Tibco has used the Rendezvous name since 1994 for several of its technology products , it said .', shape=(), dtype=string)\n",
      "tf.Tensor(1, shape=(), dtype=int64)\n",
      "=========================\n",
      "tf.Tensor(2977, shape=(), dtype=int32)\n",
      "tf.Tensor(b\"Most of the alleged spammers engaged in fraudulent or deceptive practices , said Brad Smith , Microsoft 's senior VP and general counsel .\", shape=(), dtype=string)\n",
      "tf.Tensor(b'\" Spam knows no borders , \" said Brad Smith , Microsoft \\'s senior vice-president and general counsel .', shape=(), dtype=string)\n",
      "tf.Tensor(0, shape=(), dtype=int64)\n",
      "=========================\n",
      "tf.Tensor(3482, shape=(), dtype=int32)\n",
      "tf.Tensor(b'Yesterday , Taiwan reported 35 new infections , bringing the total number of cases to 418 .', shape=(), dtype=string)\n",
      "tf.Tensor(b'The island reported another 35 probable cases yesterday , taking its total to 418 .', shape=(), dtype=string)\n",
      "tf.Tensor(1, shape=(), dtype=int64)\n",
      "=========================\n"
     ]
    }
   ],
   "source": [
    "# set up the iterator from the training set\n",
    "iterator = train.__iter__()\n",
    "# iterate the glue dataset to get a snippet of the dataset\n",
    "for i in range(3):\n",
    "    next_element = iterator.get_next()\n",
    "    print(next_element['idx'])\n",
    "    print(next_element['sentence1'])\n",
    "    print(next_element['sentence2'])\n",
    "    print(next_element['label'])\n",
    "    print(\"=========================\")"
   ]
  },
  {
   "cell_type": "code",
   "execution_count": 8,
   "metadata": {},
   "outputs": [
    {
     "name": "stdout",
     "output_type": "stream",
     "text": [
      "tf.Tensor(339, shape=(), dtype=int32)\n",
      "tf.Tensor(b'Investment bank Merrill Lynch raised its investment rating on the business software maker Oracle to \" buy \" from \" neutral \" with a 12-month price target of $ 15 .', shape=(), dtype=string)\n",
      "tf.Tensor(b'Merrill Lynch upgraded the business software maker to \" buy \" from \" neutral \" with a 12-month price target of $ 15 .', shape=(), dtype=string)\n",
      "tf.Tensor(-1, shape=(), dtype=int64)\n",
      "=========================\n",
      "tf.Tensor(598, shape=(), dtype=int32)\n",
      "tf.Tensor(b'\" The Leading Economic Index finally points to a recovery , almost a year and a half after the end of the recession , \" Conference Board economist Ken Goldstein said .', shape=(), dtype=string)\n",
      "tf.Tensor(b'Conference Board economist Ken Goldstein said the improved reading \" finally points to a recovery , almost a year and a half after the end of the recession .', shape=(), dtype=string)\n",
      "tf.Tensor(-1, shape=(), dtype=int64)\n",
      "=========================\n",
      "tf.Tensor(300, shape=(), dtype=int32)\n",
      "tf.Tensor(b\"The ruling ``is so wrong that we are extremely confident that it will not withstand our appeal to the Sixth Circuit , ' ' Taubman Centers said in a statement .\", shape=(), dtype=string)\n",
      "tf.Tensor(b'The statement concluded , \" This ruling is so wrong that we are extremely confident that it will not withstand our appeal \" to the 6th U.S. Circuit Court .', shape=(), dtype=string)\n",
      "tf.Tensor(-1, shape=(), dtype=int64)\n",
      "=========================\n"
     ]
    }
   ],
   "source": [
    "# iterator for testing set\n",
    "iterator = test.__iter__()\n",
    "# iterate the glue dataset to get a snippet of the dataset\n",
    "for i in range(3):\n",
    "    next_element = iterator.get_next()\n",
    "    print(next_element['idx'])\n",
    "    print(next_element['sentence1'])\n",
    "    print(next_element['sentence2'])\n",
    "    print(next_element['label'])\n",
    "    print(\"=========================\")"
   ]
  },
  {
   "cell_type": "markdown",
   "metadata": {},
   "source": [
    "To summarize, glue is a NLP task to do the sentence understanding. With 0 meaning sentence 1 and sentence 2 are not the paraphase and 1 meaning that they are paraphrase. The label for testing set is masked as -1. Now, let's look at how to use Huggingface Transformers to build a BERT model to predict whether two sentences are paraphrases!\n",
    "\n",
    "---\n"
   ]
  },
  {
   "cell_type": "markdown",
   "metadata": {},
   "source": [
    "# BERT using Huggingface Transformers"
   ]
  },
  {
   "cell_type": "markdown",
   "metadata": {},
   "source": [
    "The first step is to load the model. Huggingface Transformer has 8 transformer architectures and 30 pretrained weights, including BERT, OpenAIGPT, GPT2, TransfoXLModel, XLNet, XLM. Transformers use a single API to call these language models. The BERT Model name is ```BertModel```,  tokenizer class is ```BertTokenizer```, and pretrained weights shortcut is ```'bert-base-uncased'```."
   ]
  },
  {
   "cell_type": "markdown",
   "metadata": {},
   "source": [
    "To understand how each element of the model works in Huggingface Transformers, let's first encode some text to see what does transformers transform. First, set up the tokenizer for the model as ```tokenizer = tokenizer_class.from_pretrained(pretrained_weights)```. Then use ```tokenizer.encode(text)``` to encode text, and some models require adding special tokens (```add_special_tokens = True```). BERT, as introduced above, requires adding \\[CLS\\], \\[SEP\\] to text, where \\[CLS\\] is encoded as 101 and \\[SEP\\] is encoded as 102."
   ]
  },
  {
   "cell_type": "code",
   "execution_count": 9,
   "metadata": {},
   "outputs": [
    {
     "name": "stdout",
     "output_type": "stream",
     "text": [
      "text encoding without special tokens: [153, 18890, 2233, 2598, 5315, 18922]\n",
      "text encoding after adding special tokens for BERT: tensor([[  101,   153, 18890,  2233,  2598,  5315, 18922,   102]])\n"
     ]
    }
   ],
   "source": [
    "# To use TensorFlow 2.0 versions of the models, simply prefix the class names with 'TF', \n",
    "# e.g. `TFRobertaModel` is the TF 2.0 counterpart of the PyTorch model `RobertaModel`\n",
    "\n",
    "# encode some text snippets to see how bert tokenizer works\n",
    "tokenizer = BertTokenizer.from_pretrained('bert-base-cased')\n",
    "input_ids = torch.tensor([tokenizer.encode(\"Practical data science requires encoding\", add_special_tokens=True)])  \n",
    "\n",
    "print(\"text encoding without special tokens:\", tokenizer.encode(\"Practical data science requires encoding\", add_special_tokens=False))\n",
    "print(\"text encoding after adding special tokens for BERT:\", input_ids)\n"
   ]
  },
  {
   "cell_type": "markdown",
   "metadata": {},
   "source": [
    "Here's a briefing of all bert model classes:"
   ]
  },
  {
   "cell_type": "code",
   "execution_count": 10,
   "metadata": {},
   "outputs": [],
   "source": [
    "# Each architecture is provided with several class for fine-tuning on down-stream tasks, e.g.\n",
    "BERT_MODEL_CLASSES = [BertModel, BertForPreTraining, BertForMaskedLM, BertForNextSentencePrediction,\n",
    "                      BertForSequenceClassification, BertForMultipleChoice, BertForTokenClassification,\n",
    "                      BertForQuestionAnswering]"
   ]
  },
  {
   "cell_type": "markdown",
   "metadata": {},
   "source": [
    "## Set up BERT Model for Classification\n",
    "\n",
    "Now let's train the BERT on GLUE dataset! \n",
    "\n",
    "First, load tokenizer, model from Huggingface Transformer."
   ]
  },
  {
   "cell_type": "code",
   "execution_count": 11,
   "metadata": {},
   "outputs": [],
   "source": [
    "# Load tokenizer, model from pretrained model/vocabulary\n",
    "tokenizer = BertTokenizer.from_pretrained('bert-base-cased')\n",
    "model = TFBertForSequenceClassification.from_pretrained('bert-base-cased') # TF added for showing the usage of tensorflow 2.0 version."
   ]
  },
  {
   "cell_type": "code",
   "execution_count": 12,
   "metadata": {},
   "outputs": [
    {
     "data": {
      "text/plain": [
       "<transformers.modeling_tf_bert.TFBertForSequenceClassification at 0x1a4614d940>"
      ]
     },
     "execution_count": 12,
     "metadata": {},
     "output_type": "execute_result"
    }
   ],
   "source": [
    "model"
   ]
  },
  {
   "cell_type": "markdown",
   "metadata": {},
   "source": [
    "We need to convert our data into something that BERT can understand. \n",
    "\n",
    "BERT expects data as a .tsv file with four columns: id, label, a column with the same alphabet, text. Then we need to convert data to features. Huggingface Transformers has a built-in converter for glue dataset so let's embrace it! The dataset results after conversion are Tensorflow dataframes."
   ]
  },
  {
   "cell_type": "code",
   "execution_count": 13,
   "metadata": {},
   "outputs": [],
   "source": [
    "# Prepare dataset for GLUE as a tf.data.Dataset instance\n",
    "train_dataset = glue_convert_examples_to_features(data['train'], tokenizer, max_length=128, task='mrpc')\n",
    "valid_dataset = glue_convert_examples_to_features(data['validation'], tokenizer, max_length=128, task='mrpc')\n",
    "train_dataset = train_dataset.shuffle(100).batch(32).repeat(2)\n",
    "valid_dataset = valid_dataset.batch(64)"
   ]
  },
  {
   "cell_type": "markdown",
   "metadata": {},
   "source": [
    "Now, after the model and dataset are set, we need to prepare the training with tensorflow's keras model with optimizer, loss, and learning rate schedule."
   ]
  },
  {
   "cell_type": "code",
   "execution_count": 14,
   "metadata": {},
   "outputs": [],
   "source": [
    "# Prepare training: Compile tf.keras model with optimizer, loss and learning rate schedule \n",
    "optimizer = tf.keras.optimizers.Adam(learning_rate=3e-5, epsilon=1e-08, clipnorm=1.0)\n",
    "loss = tf.keras.losses.SparseCategoricalCrossentropy(from_logits=True)\n",
    "metric = tf.keras.metrics.SparseCategoricalAccuracy('accuracy')\n",
    "model.compile(optimizer=optimizer, loss=loss, metrics=[metric])"
   ]
  },
  {
   "cell_type": "markdown",
   "metadata": {},
   "source": [
    "Alright... now we can finally train our BERT model!\n",
    "\n",
    "For the below report, the epoches are set to 2 and steps per epoch are set to 115, with the validation steps set to 7. You can change these parameters, but with this setting it cost my computer **50 minutes** to train the model (see below report for detail). To increase the model performance but may at the cost of accuracy, you can decrease the steps per epoch."
   ]
  },
  {
   "cell_type": "markdown",
   "metadata": {},
   "source": [
    "```Model performance report for 2 epochs at step size = 115```\n",
    "```markdown\n",
    "Train for 115 steps, validate for 7 steps\n",
    "Epoch 1/2\n",
    "115/115 \\[==============================\\] - 1515s 13s/step - loss: 0.5822 - accuracy: 0.6933 - val_loss: 0.4512 - val_accuracy: 0.7917\n",
    "Epoch 2/2\n",
    "115/115 \\[==============================\\] - 1499s 13s/step - loss: 0.3312 - accuracy: 0.8550 - val_loss: 0.4058 - val_accuracy: 0.8309\n",
    "```"
   ]
  },
  {
   "cell_type": "markdown",
   "metadata": {},
   "source": [
    "To save some time and re-use the model for future use, you can use ```model.save_pretrained(directory)``` and save the model to a place in your directory. Alternatively, you may import the model anytime using ```model.from_pretrained(directory, from_tf=True)```. This tutorial will not include the pre-trained BERT model simply because it's size is over 400MB and exceed the requirement limit."
   ]
  },
  {
   "cell_type": "code",
   "execution_count": 147,
   "metadata": {},
   "outputs": [
    {
     "name": "stdout",
     "output_type": "stream",
     "text": [
      "Train for 25 steps, validate for 6 steps\n",
      "Epoch 1/6\n",
      "25/25 [==============================] - 389s 16s/step - loss: 0.4844 - accuracy: 0.8037 - val_loss: 0.5792 - val_accuracy: 0.7318\n",
      "Epoch 2/6\n",
      "25/25 [==============================] - 394s 16s/step - loss: 0.5309 - accuracy: 0.7475 - val_loss: 0.5240 - val_accuracy: 0.7578\n",
      "Epoch 3/6\n",
      "25/25 [==============================] - 375s 15s/step - loss: 0.5382 - accuracy: 0.7425 - val_loss: 0.4910 - val_accuracy: 0.7839\n",
      "Epoch 4/6\n",
      "25/25 [==============================] - 377s 15s/step - loss: 0.4638 - accuracy: 0.7975 - val_loss: 0.4382 - val_accuracy: 0.8047\n",
      "Epoch 5/6\n",
      "25/25 [==============================] - 384s 15s/step - loss: 0.3969 - accuracy: 0.8147 - val_loss: 0.4756 - val_accuracy: 0.7995\n",
      "Epoch 6/6\n",
      "25/25 [==============================] - 391s 16s/step - loss: 0.2941 - accuracy: 0.8875 - val_loss: 0.4644 - val_accuracy: 0.7969\n"
     ]
    }
   ],
   "source": [
    "# Train and evaluate using tf.keras.Model.fit()\n",
    "# **************************IMPORTANT*******************: this takes about half an hour to train. \n",
    "# If you don't mind waiting, you can boil some water, and prepare for a few cups of tea.\n",
    "# Else, please proceed without running this cell.\n",
    "history = model.fit(train_dataset, epochs = 6, steps_per_epoch = 25,\n",
    "                    validation_data=valid_dataset, validation_steps=6)"
   ]
  },
  {
   "cell_type": "markdown",
   "metadata": {},
   "source": [
    "Now let's visualize the result. With 6 epochs, step size = 25, and validation steps = 6 for each epoch, the highest accuracy on training set is 0.89. From the BERT paper, the highest accuracy score of BERT on glue, mrpc dataset is **89.3** (Appendix). "
   ]
  },
  {
   "cell_type": "code",
   "execution_count": 175,
   "metadata": {},
   "outputs": [
    {
     "data": {
      "image/png": "[encoded data removed]",
      "text/plain": [
       "<Figure size 432x288 with 1 Axes>"
      ]
     },
     "metadata": {
      "needs_background": "light"
     },
     "output_type": "display_data"
    }
   ],
   "source": [
    "# visualization \n",
    "# ******IMPORTANT******: DO NOT run this cell if you didn't run the cell (the second cell above) that train the BERT model.\n",
    "# To see the graph, you may also refer to the bert_accuracy.png in the original zipped folder\n",
    "plt.grid()\n",
    "plt.plot(history.history['accuracy'], marker = '^')\n",
    "plt.xlabel(\"epochs\")\n",
    "plt.ylabel(\"accuracy number\")\n",
    "plt.title(\"Accuracy on Training Set for each Epoch at Step Size = 25\")\n",
    "plt.savefig('bert_accuracy.png')"
   ]
  },
  {
   "cell_type": "markdown",
   "metadata": {},
   "source": [
    "Now as we finished the training task, let's go ahead and apply our model to some new instances!"
   ]
  },
  {
   "cell_type": "code",
   "execution_count": 19,
   "metadata": {},
   "outputs": [
    {
     "name": "stdout",
     "output_type": "stream",
     "text": [
      "sentence_1 is a paraphrase of sentence_0\n",
      "sentence_2 is a paraphrase of sentence_0\n",
      "sentence_3 is not a paraphrase of sentence_0\n"
     ]
    }
   ],
   "source": [
    "# Quickly test a few predictions - MRPC is a paraphrasing task, let's see if our model learned the task\n",
    "sentence_0 = \"This research was consistent with his findings.\"\n",
    "sentence_1 = \"His findings were compatible with this research.\"\n",
    "sentence_2 = \"His findings were not compatible with this research.\"\n",
    "sentence_3 = \"This is purely a trouble maker\"\n",
    "inputs_1 = tokenizer.encode_plus(sentence_0, sentence_1, add_special_tokens=True, return_tensors='pt')\n",
    "inputs_2 = tokenizer.encode_plus(sentence_0, sentence_2, add_special_tokens=True, return_tensors='pt')\n",
    "inputs_3 = tokenizer.encode_plus(sentence_0, sentence_3, add_special_tokens=True, return_tensors='pt')\n",
    "\n",
    "# use the model that we saved\n",
    "pred_1 = model(**inputs_1)[0].argmax().item()\n",
    "pred_2 = model(**inputs_2)[0].argmax().item()\n",
    "pred_3 = model(**inputs_3)[0].argmax().item()\n",
    "\n",
    "print(\"sentence_1 is\", \"a paraphrase\" if pred_1 else \"not a paraphrase\", \"of sentence_0\")\n",
    "print(\"sentence_2 is\", \"a paraphrase\" if pred_2 else \"not a paraphrase\", \"of sentence_0\")\n",
    "print(\"sentence_3 is\", \"a paraphrase\" if pred_3 else \"not a paraphrase\", \"of sentence_0\")"
   ]
  },
  {
   "cell_type": "code",
   "execution_count": 20,
   "metadata": {},
   "outputs": [
    {
     "name": "stdout",
     "output_type": "stream",
     "text": [
      "sentence_1 is not a paraphrase of sentence_0\n",
      "sentence_2 is a paraphrase of sentence_0\n"
     ]
    }
   ],
   "source": [
    "sentence_0 = \"Practical data science is applied in many fields.\"\n",
    "sentence_1 = \"I like cooking at home with some guidance from cookbook.\"\n",
    "sentence_2 = \"Applied Data Science skill is important in various industries.\"\n",
    "inputs_1 = tokenizer.encode_plus(sentence_0, sentence_1, add_special_tokens=True, return_tensors='pt')\n",
    "inputs_2 = tokenizer.encode_plus(sentence_0, sentence_2, add_special_tokens=True, return_tensors='pt')\n",
    "\n",
    "\n",
    "pred_1 = model(**inputs_1)[0].argmax().item()\n",
    "pred_2 = model(**inputs_2)[0].argmax().item()\n",
    "\n",
    "print(\"sentence_1 is\", \"a paraphrase\" if pred_1 else \"not a paraphrase\", \"of sentence_0\")\n",
    "print(\"sentence_2 is\", \"a paraphrase\" if pred_2 else \"not a paraphrase\", \"of sentence_0\")\n"
   ]
  },
  {
   "cell_type": "markdown",
   "metadata": {},
   "source": [
    "# Summary\n",
    "Now we have some hands on experience on training BERT and some steps closer to it. It is a hugh breakthrough in the NLP community since it first released last year. The fact that it is applicable in more than 100 languages and approachable will allow more practical applications in the future. Also because of it is semantic in nature, BERT is a huge breakthrough of technologies in the semantic analysis, which is the pain-point for lots of NLP tasks. "
   ]
  },
  {
   "cell_type": "markdown",
   "metadata": {},
   "source": [
    "# Appendix\n",
    "![mlm](mlm.png)\n",
    "**Comparisom of accuracy on mased language model vs traditional left-to-right model *(Google, 2018)***\n",
    "\n",
    "![image.png](GLUE.png)\n",
    "\n",
    "**BERT performance comparison on GLUE dataset *(Google, 2018)***\n",
    "\n",
    "![squad](bert_implement.png)\n",
    "**BERT implementation example of pretraining and fine-tuning *(Google, 2018)***"
   ]
  },
  {
   "cell_type": "markdown",
   "metadata": {},
   "source": [
    "# Citations\n",
    "1. Google Research: Jacob Devlin, Ming-Wei Chang, Kenton Lee, Kristina Toutanova. October 2018. BERT: Pre-training of Deep Bidirectional Transformers for Language Understanding, from: https://arxiv.org/abs/1810.04805\n",
    "2. BERT Open-source: https://github.com/google-research/bert\n",
    "3. Huggingface Transformers: https://github.com/huggingface/transformers\n",
    "4. Wilson L Taylor. 1953. Cloze procedure: A new tool for measuring readability. Journalism Bulletin, 30(4):415–433.\n",
    "5. Ashish Vaswani, Noam Shazeer, Niki Parmar, Jakob Uszkoreit, Llion Jones, Aidan N Gomez, Lukasz Kaiser, and Illia Polosukhin. 2017. Attention is all you need. In Advances in Neural Information Pro- cessing Systems, pages 6000–6010.\n",
    "6. Tensorflow: https://www.tensorflow.org/\n",
    "7. PyTorch: https://pytorch.org/\n",
    "8. Tensorflow dataset: https://medium.com/tensorflow/introducing-tensorflow-datasets-c7f01f7e19f3\n",
    "9. GLUE/MRPC dataset: https://www.microsoft.com/en-us/download/details.aspx?id=52398"
   ]
  },
  {
   "cell_type": "code",
   "execution_count": 1,
   "metadata": {},
   "outputs": [],
   "source": [
    "# END of this Tutorial"
   ]
  },
  {
   "cell_type": "code",
   "execution_count": null,
   "metadata": {},
   "outputs": [],
   "source": []
  }
 ],
 "metadata": {
  "kernelspec": {
   "display_name": "Python 3",
   "language": "python",
   "name": "python3"
  },
  "language_info": {
   "codemirror_mode": {
    "name": "ipython",
    "version": 3
   },
   "file_extension": ".py",
   "mimetype": "text/x-python",
   "name": "python",
   "nbconvert_exporter": "python",
   "pygments_lexer": "ipython3",
   "version": "3.7.3"
  }
 },
 "nbformat": 4,
 "nbformat_minor": 2
}
